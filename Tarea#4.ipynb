{
  "nbformat": 4,
  "nbformat_minor": 0,
  "metadata": {
    "colab": {
      "provenance": []
    },
    "kernelspec": {
      "name": "python3",
      "display_name": "Python 3"
    },
    "accelerator": "GPU"
  },
  "cells": [
    {
      "cell_type": "code",
      "metadata": {
        "id": "LvcZWwuGYCJO"
      },
      "source": [
        "import pandas as pd\n",
        "from matplotlib import pyplot as plt\n",
        "import seaborn as sns\n",
        "import numpy as np"
      ],
      "execution_count": null,
      "outputs": []
    },
    {
      "cell_type": "code",
      "metadata": {
        "id": "KA-qsHWMYMfm"
      },
      "source": [
        "df = pd.read_csv(\"/content/drive/MyDrive/Colab Notebooks/data/wisconsin_breast_cancer_dataset.csv\")"
      ],
      "execution_count": null,
      "outputs": []
    },
    {
      "cell_type": "code",
      "metadata": {
        "colab": {
          "base_uri": "https://localhost:8080/"
        },
        "id": "O2THPyFpYUtw",
        "outputId": "3bcfc679-2900-4940-d5c1-1617f5f8b762"
      },
      "source": [
        "print(df.describe().T)"
      ],
      "execution_count": null,
      "outputs": [
        {
          "output_type": "stream",
          "text": [
            "                         count          mean  ...           75%           max\n",
            "ID                       569.0  3.037183e+07  ...  8.813129e+06  9.113205e+08\n",
            "radius_mean              569.0  1.412729e+01  ...  1.578000e+01  2.811000e+01\n",
            "texture_mean             569.0  1.928965e+01  ...  2.180000e+01  3.928000e+01\n",
            "perimeter_mean           569.0  9.196903e+01  ...  1.041000e+02  1.885000e+02\n",
            "area_mean                569.0  6.548891e+02  ...  7.827000e+02  2.501000e+03\n",
            "smoothness_mean          569.0  9.636028e-02  ...  1.053000e-01  1.634000e-01\n",
            "compactness_mean         569.0  1.043410e-01  ...  1.304000e-01  3.454000e-01\n",
            "concavity_mean           569.0  8.879932e-02  ...  1.307000e-01  4.268000e-01\n",
            "concave.points_mean      569.0  4.891915e-02  ...  7.400000e-02  2.012000e-01\n",
            "symmetry_mean            569.0  1.811619e-01  ...  1.957000e-01  3.040000e-01\n",
            "fractal_dimension_mean   569.0  6.279761e-02  ...  6.612000e-02  9.744000e-02\n",
            "radius_se                569.0  4.051721e-01  ...  4.789000e-01  2.873000e+00\n",
            "texture_se               569.0  1.216853e+00  ...  1.474000e+00  4.885000e+00\n",
            "perimeter_se             569.0  2.866059e+00  ...  3.357000e+00  2.198000e+01\n",
            "area_se                  569.0  4.033708e+01  ...  4.519000e+01  5.422000e+02\n",
            "smoothness_se            569.0  7.040979e-03  ...  8.146000e-03  3.113000e-02\n",
            "compactness_se           569.0  2.547814e-02  ...  3.245000e-02  1.354000e-01\n",
            "concavity_se             569.0  3.189372e-02  ...  4.205000e-02  3.960000e-01\n",
            "concave.points_se        569.0  1.179614e-02  ...  1.471000e-02  5.279000e-02\n",
            "symmetry_se              569.0  2.054230e-02  ...  2.348000e-02  7.895000e-02\n",
            "fractal_dimension_se     569.0  3.794904e-03  ...  4.558000e-03  2.984000e-02\n",
            "radius_worst             569.0  1.626919e+01  ...  1.879000e+01  3.604000e+01\n",
            "texture_worst            569.0  2.567722e+01  ...  2.972000e+01  4.954000e+01\n",
            "perimeter_worst          569.0  1.072612e+02  ...  1.254000e+02  2.512000e+02\n",
            "area_worst               569.0  8.805831e+02  ...  1.084000e+03  4.254000e+03\n",
            "smoothness_worst         569.0  1.323686e-01  ...  1.460000e-01  2.226000e-01\n",
            "compactness_worst        569.0  2.542650e-01  ...  3.391000e-01  1.058000e+00\n",
            "concavity_worst          569.0  2.721885e-01  ...  3.829000e-01  1.252000e+00\n",
            "concave.points_worst     569.0  1.146062e-01  ...  1.614000e-01  2.910000e-01\n",
            "symmetry_worst           569.0  2.900756e-01  ...  3.179000e-01  6.638000e-01\n",
            "fractal_dimension_worst  569.0  8.394582e-02  ...  9.208000e-02  2.075000e-01\n",
            "\n",
            "[31 rows x 8 columns]\n"
          ],
          "name": "stdout"
        }
      ]
    },
    {
      "cell_type": "code",
      "metadata": {
        "colab": {
          "base_uri": "https://localhost:8080/"
        },
        "id": "vnjyJZThYqPg",
        "outputId": "b90a3976-3d7e-4362-d615-c3dc394bc70e"
      },
      "source": [
        "print(df.isnull().sum())\n",
        "#df = df.dropna()"
      ],
      "execution_count": null,
      "outputs": [
        {
          "output_type": "stream",
          "text": [
            "ID                         0\n",
            "Diagnosis                  0\n",
            "radius_mean                0\n",
            "texture_mean               0\n",
            "perimeter_mean             0\n",
            "area_mean                  0\n",
            "smoothness_mean            0\n",
            "compactness_mean           0\n",
            "concavity_mean             0\n",
            "concave.points_mean        0\n",
            "symmetry_mean              0\n",
            "fractal_dimension_mean     0\n",
            "radius_se                  0\n",
            "texture_se                 0\n",
            "perimeter_se               0\n",
            "area_se                    0\n",
            "smoothness_se              0\n",
            "compactness_se             0\n",
            "concavity_se               0\n",
            "concave.points_se          0\n",
            "symmetry_se                0\n",
            "fractal_dimension_se       0\n",
            "radius_worst               0\n",
            "texture_worst              0\n",
            "perimeter_worst            0\n",
            "area_worst                 0\n",
            "smoothness_worst           0\n",
            "compactness_worst          0\n",
            "concavity_worst            0\n",
            "concave.points_worst       0\n",
            "symmetry_worst             0\n",
            "fractal_dimension_worst    0\n",
            "dtype: int64\n"
          ],
          "name": "stdout"
        }
      ]
    },
    {
      "cell_type": "code",
      "metadata": {
        "colab": {
          "base_uri": "https://localhost:8080/"
        },
        "id": "1EUWeZDgY0NA",
        "outputId": "057b0c7b-5862-4649-de9d-99a7afe336b9"
      },
      "source": [
        "#Rename Dataset to Label to make it easy to understand\n",
        "df = df.rename(columns={'Diagnosis':'Label'})\n",
        "print(df.dtypes)"
      ],
      "execution_count": null,
      "outputs": [
        {
          "output_type": "stream",
          "text": [
            "ID                           int64\n",
            "Label                       object\n",
            "radius_mean                float64\n",
            "texture_mean               float64\n",
            "perimeter_mean             float64\n",
            "area_mean                  float64\n",
            "smoothness_mean            float64\n",
            "compactness_mean           float64\n",
            "concavity_mean             float64\n",
            "concave.points_mean        float64\n",
            "symmetry_mean              float64\n",
            "fractal_dimension_mean     float64\n",
            "radius_se                  float64\n",
            "texture_se                 float64\n",
            "perimeter_se               float64\n",
            "area_se                    float64\n",
            "smoothness_se              float64\n",
            "compactness_se             float64\n",
            "concavity_se               float64\n",
            "concave.points_se          float64\n",
            "symmetry_se                float64\n",
            "fractal_dimension_se       float64\n",
            "radius_worst               float64\n",
            "texture_worst              float64\n",
            "perimeter_worst            float64\n",
            "area_worst                 float64\n",
            "smoothness_worst           float64\n",
            "compactness_worst          float64\n",
            "concavity_worst            float64\n",
            "concave.points_worst       float64\n",
            "symmetry_worst             float64\n",
            "fractal_dimension_worst    float64\n",
            "dtype: object\n"
          ],
          "name": "stdout"
        }
      ]
    },
    {
      "cell_type": "code",
      "metadata": {
        "colab": {
          "base_uri": "https://localhost:8080/",
          "height": 297
        },
        "id": "U-ZYTxkGZDdy",
        "outputId": "24e2bb3e-1e40-4cef-8bce-bcd4001174bd"
      },
      "source": [
        "#Understand the data\n",
        "sns.countplot(x=\"Label\", data=df) #M - malignant   B - benign"
      ],
      "execution_count": null,
      "outputs": [
        {
          "output_type": "execute_result",
          "data": {
            "text/plain": [
              "<matplotlib.axes._subplots.AxesSubplot at 0x7fb38011efd0>"
            ]
          },
          "metadata": {
            "tags": []
          },
          "execution_count": 6
        },
        {
          "output_type": "display_data",
          "data": {
            "image/png": "[encoded data removed]",
            "text/plain": [
              "<Figure size 432x288 with 1 Axes>"
            ]
          },
          "metadata": {
            "tags": [],
            "needs_background": "light"
          }
        }
      ]
    },
    {
      "cell_type": "code",
      "metadata": {
        "colab": {
          "base_uri": "https://localhost:8080/"
        },
        "id": "sHf0pr6mZ-sS",
        "outputId": "cdbd01bf-4ac3-41a9-eb99-df8ecd96296a"
      },
      "source": [
        "####### Replace categorical values with numbers########\n",
        "print(\"Distribution of data: \", df['Label'].value_counts())\n",
        "\n",
        "#Define the dependent variable that needs to be predicted (labels)\n",
        "y = df[\"Label\"].values\n",
        "print(\"Labels before encoding are: \", np.unique(y))\n",
        "\n",
        "# Encoding categorical data from text (B and M) to integers (0 and 1)\n",
        "from sklearn.preprocessing import LabelEncoder\n",
        "labelencoder = LabelEncoder()\n",
        "Y = labelencoder.fit_transform(y) # M=1 and B=0\n",
        "print(\"Labels after encoding are: \", np.unique(Y))"
      ],
      "execution_count": null,
      "outputs": [
        {
          "output_type": "stream",
          "text": [
            "Labels after encoding are:  [0 1]\n"
          ],
          "name": "stdout"
        }
      ]
    },
    {
      "cell_type": "code",
      "metadata": {
        "colab": {
          "base_uri": "https://localhost:8080/"
        },
        "id": "k4yc60BVajj9",
        "outputId": "b9ec1089-ce1b-4de2-fc54-2e8b8bf773d2"
      },
      "source": [
        "#Define x and normalize / scale values\n",
        "\n",
        "#Define the independent variables. Drop label and ID, and normalize other data\n",
        "X = df.drop(labels = [\"Label\", \"ID\"], axis=1)\n",
        "print(X.describe().T) #Needs scaling"
      ],
      "execution_count": null,
      "outputs": [
        {
          "output_type": "stream",
          "text": [
            "                         count        mean  ...          75%         max\n",
            "radius_mean              569.0   14.127292  ...    15.780000    28.11000\n",
            "texture_mean             569.0   19.289649  ...    21.800000    39.28000\n",
            "perimeter_mean           569.0   91.969033  ...   104.100000   188.50000\n",
            "area_mean                569.0  654.889104  ...   782.700000  2501.00000\n",
            "smoothness_mean          569.0    0.096360  ...     0.105300     0.16340\n",
            "compactness_mean         569.0    0.104341  ...     0.130400     0.34540\n",
            "concavity_mean           569.0    0.088799  ...     0.130700     0.42680\n",
            "concave.points_mean      569.0    0.048919  ...     0.074000     0.20120\n",
            "symmetry_mean            569.0    0.181162  ...     0.195700     0.30400\n",
            "fractal_dimension_mean   569.0    0.062798  ...     0.066120     0.09744\n",
            "radius_se                569.0    0.405172  ...     0.478900     2.87300\n",
            "texture_se               569.0    1.216853  ...     1.474000     4.88500\n",
            "perimeter_se             569.0    2.866059  ...     3.357000    21.98000\n",
            "area_se                  569.0   40.337079  ...    45.190000   542.20000\n",
            "smoothness_se            569.0    0.007041  ...     0.008146     0.03113\n",
            "compactness_se           569.0    0.025478  ...     0.032450     0.13540\n",
            "concavity_se             569.0    0.031894  ...     0.042050     0.39600\n",
            "concave.points_se        569.0    0.011796  ...     0.014710     0.05279\n",
            "symmetry_se              569.0    0.020542  ...     0.023480     0.07895\n",
            "fractal_dimension_se     569.0    0.003795  ...     0.004558     0.02984\n",
            "radius_worst             569.0   16.269190  ...    18.790000    36.04000\n",
            "texture_worst            569.0   25.677223  ...    29.720000    49.54000\n",
            "perimeter_worst          569.0  107.261213  ...   125.400000   251.20000\n",
            "area_worst               569.0  880.583128  ...  1084.000000  4254.00000\n",
            "smoothness_worst         569.0    0.132369  ...     0.146000     0.22260\n",
            "compactness_worst        569.0    0.254265  ...     0.339100     1.05800\n",
            "concavity_worst          569.0    0.272188  ...     0.382900     1.25200\n",
            "concave.points_worst     569.0    0.114606  ...     0.161400     0.29100\n",
            "symmetry_worst           569.0    0.290076  ...     0.317900     0.66380\n",
            "fractal_dimension_worst  569.0    0.083946  ...     0.092080     0.20750\n",
            "\n",
            "[30 rows x 8 columns]\n"
          ],
          "name": "stdout"
        }
      ]
    },
    {
      "cell_type": "code",
      "metadata": {
        "colab": {
          "base_uri": "https://localhost:8080/"
        },
        "id": "IFVtqnTHbCS9",
        "outputId": "55dab918-bae3-4ca0-dee4-41e0828ddb3e"
      },
      "source": [
        "#Scale / normalize the values to bring them to similar range\n",
        "from sklearn.preprocessing import MinMaxScaler\n",
        "scaler = MinMaxScaler()\n",
        "scaler.fit(X)\n",
        "X = scaler.transform(X)\n",
        "print(X)  #Scaled values"
      ],
      "execution_count": null,
      "outputs": [
        {
          "output_type": "stream",
          "text": [
            "[[0.52103744 0.0226581  0.54598853 ... 0.91202749 0.59846245 0.41886396]\n",
            " [0.64314449 0.27257355 0.61578329 ... 0.63917526 0.23358959 0.22287813]\n",
            " [0.60149557 0.3902604  0.59574321 ... 0.83505155 0.40370589 0.21343303]\n",
            " ...\n",
            " [0.45525108 0.62123774 0.44578813 ... 0.48728522 0.12872068 0.1519087 ]\n",
            " [0.64456434 0.66351031 0.66553797 ... 0.91065292 0.49714173 0.45231536]\n",
            " [0.03686876 0.50152181 0.02853984 ... 0.         0.25744136 0.10068215]]\n"
          ],
          "name": "stdout"
        }
      ]
    },
    {
      "cell_type": "code",
      "metadata": {
        "colab": {
          "base_uri": "https://localhost:8080/"
        },
        "id": "HjCYDT5kbUTz",
        "outputId": "f9675d6d-bc7d-4cbd-f680-84af2e171304"
      },
      "source": [
        "#Split data into train and test to verify accuracy after fitting the model.\n",
        "from sklearn.model_selection import train_test_split\n",
        "X_train, X_test, y_train, y_test = train_test_split(X, Y, test_size=0.25, random_state=42)\n",
        "print(\"Shape of training data is: \", X_train.shape)\n",
        "print(\"Shape of testing data is: \", X_test.shape)"
      ],
      "execution_count": null,
      "outputs": [
        {
          "output_type": "stream",
          "text": [
            "Shape of training data is:  (426, 30)\n",
            "Shape of testing data is:  (143, 30)\n"
          ],
          "name": "stdout"
        }
      ]
    },
    {
      "cell_type": "code",
      "metadata": {
        "id": "NJiToUeIbmNx"
      },
      "source": [
        "from keras.models import Sequential\n",
        "from keras.layers import Dense, Activation, Dropout"
      ],
      "execution_count": null,
      "outputs": []
    },
    {
      "cell_type": "code",
      "metadata": {
        "colab": {
          "base_uri": "https://localhost:8080/"
        },
        "id": "d5KZ-t-Pb2-F",
        "outputId": "7eefd80b-87b7-428e-ad99-7438343e7ab7"
      },
      "source": [
        "model = Sequential()\n",
        "model.add(Dense(16, input_dim=30, activation='relu'))\n",
        "model.add(Dropout(0.2))\n",
        "model.add(Dense(1))\n",
        "model.add(Activation('sigmoid'))\n",
        "\n",
        "model.compile(loss='binary_crossentropy', optimizer='adam', metrics=['accuracy'])\n",
        "\n",
        "print(model.summary())"
      ],
      "execution_count": null,
      "outputs": [
        {
          "output_type": "stream",
          "text": [
            "Model: \"sequential\"\n",
            "_________________________________________________________________\n",
            "Layer (type)                 Output Shape              Param #   \n",
            "=================================================================\n",
            "dense (Dense)                (None, 16)                496       \n",
            "_________________________________________________________________\n",
            "dropout (Dropout)            (None, 16)                0         \n",
            "_________________________________________________________________\n",
            "dense_1 (Dense)              (None, 1)                 17        \n",
            "_________________________________________________________________\n",
            "activation (Activation)      (None, 1)                 0         \n",
            "=================================================================\n",
            "Total params: 513\n",
            "Trainable params: 513\n",
            "Non-trainable params: 0\n",
            "_________________________________________________________________\n",
            "None\n"
          ],
          "name": "stdout"
        }
      ]
    },
    {
      "cell_type": "code",
      "metadata": {
        "colab": {
          "base_uri": "https://localhost:8080/"
        },
        "id": "YhQev7Jmc3Z2",
        "outputId": "0a9d6f83-f349-4565-95ce-b680c6de0d6d"
      },
      "source": [
        "#Fit with no early stopping or other callbacks\n",
        "history = model.fit(X_train, y_train, verbose=1, epochs=100, batch_size=64,\n",
        "                    validation_data=(X_test, y_test))\n"
      ],
      "execution_count": null,
      "outputs": [
        {
          "output_type": "stream",
          "text": [
            "Epoch 1/100\n",
            "7/7 [==============================] - 2s 74ms/step - loss: 0.7125 - accuracy: 0.3820 - val_loss: 0.7045 - val_accuracy: 0.3776\n",
            "Epoch 2/100\n",
            "7/7 [==============================] - 0s 7ms/step - loss: 0.7029 - accuracy: 0.3789 - val_loss: 0.6921 - val_accuracy: 0.3776\n",
            "Epoch 3/100\n",
            "7/7 [==============================] - 0s 6ms/step - loss: 0.6937 - accuracy: 0.4116 - val_loss: 0.6814 - val_accuracy: 0.3776\n",
            "Epoch 4/100\n",
            "7/7 [==============================] - 0s 6ms/step - loss: 0.6791 - accuracy: 0.4769 - val_loss: 0.6720 - val_accuracy: 0.4755\n",
            "Epoch 5/100\n",
            "7/7 [==============================] - 0s 7ms/step - loss: 0.6821 - accuracy: 0.5031 - val_loss: 0.6634 - val_accuracy: 0.6783\n",
            "Epoch 6/100\n",
            "7/7 [==============================] - 0s 6ms/step - loss: 0.6618 - accuracy: 0.6793 - val_loss: 0.6547 - val_accuracy: 0.8462\n",
            "Epoch 7/100\n",
            "7/7 [==============================] - 0s 6ms/step - loss: 0.6622 - accuracy: 0.6830 - val_loss: 0.6455 - val_accuracy: 0.8811\n",
            "Epoch 8/100\n",
            "7/7 [==============================] - 0s 6ms/step - loss: 0.6545 - accuracy: 0.7460 - val_loss: 0.6354 - val_accuracy: 0.8881\n",
            "Epoch 9/100\n",
            "7/7 [==============================] - 0s 7ms/step - loss: 0.6397 - accuracy: 0.8006 - val_loss: 0.6255 - val_accuracy: 0.9231\n",
            "Epoch 10/100\n",
            "7/7 [==============================] - 0s 6ms/step - loss: 0.6323 - accuracy: 0.7936 - val_loss: 0.6153 - val_accuracy: 0.9231\n",
            "Epoch 11/100\n",
            "7/7 [==============================] - 0s 6ms/step - loss: 0.6252 - accuracy: 0.8203 - val_loss: 0.6055 - val_accuracy: 0.9161\n",
            "Epoch 12/100\n",
            "7/7 [==============================] - 0s 8ms/step - loss: 0.6177 - accuracy: 0.8372 - val_loss: 0.5954 - val_accuracy: 0.9161\n",
            "Epoch 13/100\n",
            "7/7 [==============================] - 0s 8ms/step - loss: 0.6112 - accuracy: 0.8218 - val_loss: 0.5853 - val_accuracy: 0.9301\n",
            "Epoch 14/100\n",
            "7/7 [==============================] - 0s 8ms/step - loss: 0.5948 - accuracy: 0.8485 - val_loss: 0.5750 - val_accuracy: 0.9371\n",
            "Epoch 15/100\n",
            "7/7 [==============================] - 0s 7ms/step - loss: 0.5915 - accuracy: 0.8471 - val_loss: 0.5648 - val_accuracy: 0.9301\n",
            "Epoch 16/100\n",
            "7/7 [==============================] - 0s 6ms/step - loss: 0.5813 - accuracy: 0.8508 - val_loss: 0.5547 - val_accuracy: 0.9371\n",
            "Epoch 17/100\n",
            "7/7 [==============================] - 0s 7ms/step - loss: 0.5695 - accuracy: 0.8396 - val_loss: 0.5444 - val_accuracy: 0.9441\n",
            "Epoch 18/100\n",
            "7/7 [==============================] - 0s 7ms/step - loss: 0.5559 - accuracy: 0.8653 - val_loss: 0.5339 - val_accuracy: 0.9441\n",
            "Epoch 19/100\n",
            "7/7 [==============================] - 0s 6ms/step - loss: 0.5497 - accuracy: 0.8733 - val_loss: 0.5234 - val_accuracy: 0.9441\n",
            "Epoch 20/100\n",
            "7/7 [==============================] - 0s 7ms/step - loss: 0.5362 - accuracy: 0.8721 - val_loss: 0.5127 - val_accuracy: 0.9441\n",
            "Epoch 21/100\n",
            "7/7 [==============================] - 0s 6ms/step - loss: 0.5375 - accuracy: 0.8684 - val_loss: 0.5019 - val_accuracy: 0.9371\n",
            "Epoch 22/100\n",
            "7/7 [==============================] - 0s 6ms/step - loss: 0.5208 - accuracy: 0.8888 - val_loss: 0.4909 - val_accuracy: 0.9510\n",
            "Epoch 23/100\n",
            "7/7 [==============================] - 0s 6ms/step - loss: 0.5247 - accuracy: 0.8454 - val_loss: 0.4802 - val_accuracy: 0.9510\n",
            "Epoch 24/100\n",
            "7/7 [==============================] - 0s 6ms/step - loss: 0.5103 - accuracy: 0.8694 - val_loss: 0.4695 - val_accuracy: 0.9510\n",
            "Epoch 25/100\n",
            "7/7 [==============================] - 0s 7ms/step - loss: 0.4871 - accuracy: 0.8639 - val_loss: 0.4589 - val_accuracy: 0.9510\n",
            "Epoch 26/100\n",
            "7/7 [==============================] - 0s 6ms/step - loss: 0.4922 - accuracy: 0.8664 - val_loss: 0.4485 - val_accuracy: 0.9510\n",
            "Epoch 27/100\n",
            "7/7 [==============================] - 0s 6ms/step - loss: 0.4770 - accuracy: 0.8831 - val_loss: 0.4385 - val_accuracy: 0.9510\n",
            "Epoch 28/100\n",
            "7/7 [==============================] - 0s 6ms/step - loss: 0.4708 - accuracy: 0.8874 - val_loss: 0.4284 - val_accuracy: 0.9510\n",
            "Epoch 29/100\n",
            "7/7 [==============================] - 0s 6ms/step - loss: 0.4557 - accuracy: 0.9034 - val_loss: 0.4184 - val_accuracy: 0.9441\n",
            "Epoch 30/100\n",
            "7/7 [==============================] - 0s 6ms/step - loss: 0.4593 - accuracy: 0.8837 - val_loss: 0.4089 - val_accuracy: 0.9510\n",
            "Epoch 31/100\n",
            "7/7 [==============================] - 0s 7ms/step - loss: 0.4463 - accuracy: 0.8582 - val_loss: 0.3995 - val_accuracy: 0.9441\n",
            "Epoch 32/100\n",
            "7/7 [==============================] - 0s 7ms/step - loss: 0.4378 - accuracy: 0.8895 - val_loss: 0.3903 - val_accuracy: 0.9441\n",
            "Epoch 33/100\n",
            "7/7 [==============================] - 0s 6ms/step - loss: 0.4241 - accuracy: 0.8979 - val_loss: 0.3814 - val_accuracy: 0.9510\n",
            "Epoch 34/100\n",
            "7/7 [==============================] - 0s 7ms/step - loss: 0.4225 - accuracy: 0.8927 - val_loss: 0.3729 - val_accuracy: 0.9510\n",
            "Epoch 35/100\n",
            "7/7 [==============================] - 0s 8ms/step - loss: 0.4056 - accuracy: 0.8930 - val_loss: 0.3647 - val_accuracy: 0.9580\n",
            "Epoch 36/100\n",
            "7/7 [==============================] - 0s 7ms/step - loss: 0.4166 - accuracy: 0.8885 - val_loss: 0.3567 - val_accuracy: 0.9510\n",
            "Epoch 37/100\n",
            "7/7 [==============================] - 0s 7ms/step - loss: 0.4049 - accuracy: 0.8782 - val_loss: 0.3488 - val_accuracy: 0.9510\n",
            "Epoch 38/100\n",
            "7/7 [==============================] - 0s 7ms/step - loss: 0.4058 - accuracy: 0.8695 - val_loss: 0.3417 - val_accuracy: 0.9510\n",
            "Epoch 39/100\n",
            "7/7 [==============================] - 0s 6ms/step - loss: 0.3620 - accuracy: 0.9150 - val_loss: 0.3342 - val_accuracy: 0.9510\n",
            "Epoch 40/100\n",
            "7/7 [==============================] - 0s 6ms/step - loss: 0.3616 - accuracy: 0.8976 - val_loss: 0.3270 - val_accuracy: 0.9510\n",
            "Epoch 41/100\n",
            "7/7 [==============================] - 0s 6ms/step - loss: 0.3699 - accuracy: 0.8878 - val_loss: 0.3199 - val_accuracy: 0.9510\n",
            "Epoch 42/100\n",
            "7/7 [==============================] - 0s 7ms/step - loss: 0.3621 - accuracy: 0.8933 - val_loss: 0.3134 - val_accuracy: 0.9510\n",
            "Epoch 43/100\n",
            "7/7 [==============================] - 0s 8ms/step - loss: 0.3508 - accuracy: 0.9066 - val_loss: 0.3072 - val_accuracy: 0.9510\n",
            "Epoch 44/100\n",
            "7/7 [==============================] - 0s 8ms/step - loss: 0.3559 - accuracy: 0.8908 - val_loss: 0.3010 - val_accuracy: 0.9510\n",
            "Epoch 45/100\n",
            "7/7 [==============================] - 0s 7ms/step - loss: 0.3400 - accuracy: 0.8930 - val_loss: 0.2945 - val_accuracy: 0.9441\n",
            "Epoch 46/100\n",
            "7/7 [==============================] - 0s 6ms/step - loss: 0.3249 - accuracy: 0.9298 - val_loss: 0.2884 - val_accuracy: 0.9441\n",
            "Epoch 47/100\n",
            "7/7 [==============================] - 0s 7ms/step - loss: 0.3129 - accuracy: 0.9199 - val_loss: 0.2833 - val_accuracy: 0.9510\n",
            "Epoch 48/100\n",
            "7/7 [==============================] - 0s 7ms/step - loss: 0.3372 - accuracy: 0.8917 - val_loss: 0.2787 - val_accuracy: 0.9510\n",
            "Epoch 49/100\n",
            "7/7 [==============================] - 0s 8ms/step - loss: 0.3167 - accuracy: 0.9158 - val_loss: 0.2735 - val_accuracy: 0.9510\n",
            "Epoch 50/100\n",
            "7/7 [==============================] - 0s 7ms/step - loss: 0.3268 - accuracy: 0.8970 - val_loss: 0.2678 - val_accuracy: 0.9510\n",
            "Epoch 51/100\n",
            "7/7 [==============================] - 0s 7ms/step - loss: 0.3191 - accuracy: 0.9024 - val_loss: 0.2626 - val_accuracy: 0.9441\n",
            "Epoch 52/100\n",
            "7/7 [==============================] - 0s 7ms/step - loss: 0.3110 - accuracy: 0.9006 - val_loss: 0.2591 - val_accuracy: 0.9510\n",
            "Epoch 53/100\n",
            "7/7 [==============================] - 0s 22ms/step - loss: 0.3068 - accuracy: 0.9235 - val_loss: 0.2555 - val_accuracy: 0.9510\n",
            "Epoch 54/100\n",
            "7/7 [==============================] - 0s 8ms/step - loss: 0.3036 - accuracy: 0.9107 - val_loss: 0.2509 - val_accuracy: 0.9510\n",
            "Epoch 55/100\n",
            "7/7 [==============================] - 0s 6ms/step - loss: 0.2995 - accuracy: 0.9174 - val_loss: 0.2467 - val_accuracy: 0.9510\n",
            "Epoch 56/100\n",
            "7/7 [==============================] - 0s 7ms/step - loss: 0.3054 - accuracy: 0.8991 - val_loss: 0.2427 - val_accuracy: 0.9510\n",
            "Epoch 57/100\n",
            "7/7 [==============================] - 0s 6ms/step - loss: 0.3004 - accuracy: 0.8998 - val_loss: 0.2399 - val_accuracy: 0.9510\n",
            "Epoch 58/100\n",
            "7/7 [==============================] - 0s 7ms/step - loss: 0.2849 - accuracy: 0.9152 - val_loss: 0.2357 - val_accuracy: 0.9441\n",
            "Epoch 59/100\n",
            "7/7 [==============================] - 0s 7ms/step - loss: 0.2690 - accuracy: 0.9340 - val_loss: 0.2318 - val_accuracy: 0.9510\n",
            "Epoch 60/100\n",
            "7/7 [==============================] - 0s 6ms/step - loss: 0.2820 - accuracy: 0.9201 - val_loss: 0.2281 - val_accuracy: 0.9510\n",
            "Epoch 61/100\n",
            "7/7 [==============================] - 0s 6ms/step - loss: 0.2887 - accuracy: 0.9264 - val_loss: 0.2248 - val_accuracy: 0.9441\n",
            "Epoch 62/100\n",
            "7/7 [==============================] - 0s 7ms/step - loss: 0.2892 - accuracy: 0.9060 - val_loss: 0.2208 - val_accuracy: 0.9510\n",
            "Epoch 63/100\n",
            "7/7 [==============================] - 0s 7ms/step - loss: 0.2703 - accuracy: 0.9170 - val_loss: 0.2176 - val_accuracy: 0.9510\n",
            "Epoch 64/100\n",
            "7/7 [==============================] - 0s 7ms/step - loss: 0.2680 - accuracy: 0.9118 - val_loss: 0.2141 - val_accuracy: 0.9510\n",
            "Epoch 65/100\n",
            "7/7 [==============================] - 0s 7ms/step - loss: 0.2501 - accuracy: 0.9274 - val_loss: 0.2115 - val_accuracy: 0.9441\n",
            "Epoch 66/100\n",
            "7/7 [==============================] - 0s 7ms/step - loss: 0.2864 - accuracy: 0.8790 - val_loss: 0.2080 - val_accuracy: 0.9510\n",
            "Epoch 67/100\n",
            "7/7 [==============================] - 0s 7ms/step - loss: 0.2709 - accuracy: 0.8937 - val_loss: 0.2049 - val_accuracy: 0.9580\n",
            "Epoch 68/100\n",
            "7/7 [==============================] - 0s 6ms/step - loss: 0.2572 - accuracy: 0.9191 - val_loss: 0.2031 - val_accuracy: 0.9441\n",
            "Epoch 69/100\n",
            "7/7 [==============================] - 0s 7ms/step - loss: 0.2752 - accuracy: 0.9031 - val_loss: 0.2007 - val_accuracy: 0.9510\n",
            "Epoch 70/100\n",
            "7/7 [==============================] - 0s 7ms/step - loss: 0.2819 - accuracy: 0.8855 - val_loss: 0.1985 - val_accuracy: 0.9510\n",
            "Epoch 71/100\n",
            "7/7 [==============================] - 0s 6ms/step - loss: 0.2572 - accuracy: 0.9061 - val_loss: 0.1955 - val_accuracy: 0.9580\n",
            "Epoch 72/100\n",
            "7/7 [==============================] - 0s 6ms/step - loss: 0.2577 - accuracy: 0.9190 - val_loss: 0.1929 - val_accuracy: 0.9580\n",
            "Epoch 73/100\n",
            "7/7 [==============================] - 0s 7ms/step - loss: 0.2542 - accuracy: 0.9246 - val_loss: 0.1908 - val_accuracy: 0.9580\n",
            "Epoch 74/100\n",
            "7/7 [==============================] - 0s 7ms/step - loss: 0.2735 - accuracy: 0.8812 - val_loss: 0.1888 - val_accuracy: 0.9580\n",
            "Epoch 75/100\n",
            "7/7 [==============================] - 0s 8ms/step - loss: 0.2554 - accuracy: 0.9165 - val_loss: 0.1860 - val_accuracy: 0.9580\n",
            "Epoch 76/100\n",
            "7/7 [==============================] - 0s 7ms/step - loss: 0.2398 - accuracy: 0.9124 - val_loss: 0.1836 - val_accuracy: 0.9580\n",
            "Epoch 77/100\n",
            "7/7 [==============================] - 0s 6ms/step - loss: 0.2193 - accuracy: 0.9250 - val_loss: 0.1809 - val_accuracy: 0.9580\n",
            "Epoch 78/100\n",
            "7/7 [==============================] - 0s 8ms/step - loss: 0.2439 - accuracy: 0.9069 - val_loss: 0.1792 - val_accuracy: 0.9510\n",
            "Epoch 79/100\n",
            "7/7 [==============================] - 0s 6ms/step - loss: 0.2365 - accuracy: 0.9136 - val_loss: 0.1777 - val_accuracy: 0.9650\n",
            "Epoch 80/100\n",
            "7/7 [==============================] - 0s 7ms/step - loss: 0.2242 - accuracy: 0.9363 - val_loss: 0.1756 - val_accuracy: 0.9650\n",
            "Epoch 81/100\n",
            "7/7 [==============================] - 0s 7ms/step - loss: 0.2320 - accuracy: 0.9231 - val_loss: 0.1752 - val_accuracy: 0.9580\n",
            "Epoch 82/100\n",
            "7/7 [==============================] - 0s 7ms/step - loss: 0.2309 - accuracy: 0.9041 - val_loss: 0.1724 - val_accuracy: 0.9650\n",
            "Epoch 83/100\n",
            "7/7 [==============================] - 0s 6ms/step - loss: 0.2219 - accuracy: 0.9346 - val_loss: 0.1697 - val_accuracy: 0.9650\n",
            "Epoch 84/100\n",
            "7/7 [==============================] - 0s 7ms/step - loss: 0.2189 - accuracy: 0.9375 - val_loss: 0.1663 - val_accuracy: 0.9580\n",
            "Epoch 85/100\n",
            "7/7 [==============================] - 0s 7ms/step - loss: 0.2248 - accuracy: 0.9097 - val_loss: 0.1645 - val_accuracy: 0.9510\n",
            "Epoch 86/100\n",
            "7/7 [==============================] - 0s 7ms/step - loss: 0.2279 - accuracy: 0.9152 - val_loss: 0.1643 - val_accuracy: 0.9720\n",
            "Epoch 87/100\n",
            "7/7 [==============================] - 0s 7ms/step - loss: 0.2129 - accuracy: 0.9354 - val_loss: 0.1632 - val_accuracy: 0.9580\n",
            "Epoch 88/100\n",
            "7/7 [==============================] - 0s 6ms/step - loss: 0.2023 - accuracy: 0.9316 - val_loss: 0.1621 - val_accuracy: 0.9580\n",
            "Epoch 89/100\n",
            "7/7 [==============================] - 0s 7ms/step - loss: 0.2100 - accuracy: 0.9449 - val_loss: 0.1604 - val_accuracy: 0.9580\n",
            "Epoch 90/100\n",
            "7/7 [==============================] - 0s 7ms/step - loss: 0.2112 - accuracy: 0.8996 - val_loss: 0.1588 - val_accuracy: 0.9580\n",
            "Epoch 91/100\n",
            "7/7 [==============================] - 0s 7ms/step - loss: 0.2228 - accuracy: 0.9212 - val_loss: 0.1571 - val_accuracy: 0.9580\n",
            "Epoch 92/100\n",
            "7/7 [==============================] - 0s 7ms/step - loss: 0.2069 - accuracy: 0.9347 - val_loss: 0.1547 - val_accuracy: 0.9650\n",
            "Epoch 93/100\n",
            "7/7 [==============================] - 0s 7ms/step - loss: 0.2134 - accuracy: 0.9444 - val_loss: 0.1525 - val_accuracy: 0.9790\n",
            "Epoch 94/100\n",
            "7/7 [==============================] - 0s 7ms/step - loss: 0.2038 - accuracy: 0.9242 - val_loss: 0.1516 - val_accuracy: 0.9720\n",
            "Epoch 95/100\n",
            "7/7 [==============================] - 0s 9ms/step - loss: 0.2084 - accuracy: 0.9353 - val_loss: 0.1492 - val_accuracy: 0.9860\n",
            "Epoch 96/100\n",
            "7/7 [==============================] - 0s 8ms/step - loss: 0.2148 - accuracy: 0.9161 - val_loss: 0.1488 - val_accuracy: 0.9720\n",
            "Epoch 97/100\n",
            "7/7 [==============================] - 0s 24ms/step - loss: 0.2113 - accuracy: 0.9175 - val_loss: 0.1482 - val_accuracy: 0.9720\n",
            "Epoch 98/100\n",
            "7/7 [==============================] - 0s 8ms/step - loss: 0.2051 - accuracy: 0.9377 - val_loss: 0.1467 - val_accuracy: 0.9720\n",
            "Epoch 99/100\n",
            "7/7 [==============================] - 0s 7ms/step - loss: 0.2053 - accuracy: 0.9178 - val_loss: 0.1453 - val_accuracy: 0.9720\n",
            "Epoch 100/100\n",
            "7/7 [==============================] - 0s 7ms/step - loss: 0.2007 - accuracy: 0.9333 - val_loss: 0.1458 - val_accuracy: 0.9720\n"
          ],
          "name": "stdout"
        }
      ]
    },
    {
      "cell_type": "code",
      "metadata": {
        "colab": {
          "base_uri": "https://localhost:8080/",
          "height": 573
        },
        "id": "tUtN6d9keAQn",
        "outputId": "b162e18d-2fff-4069-f0a9-4d4c2c3ba4dd"
      },
      "source": [
        "#plot the training and validation accuracy and loss at each epoch\n",
        "loss = history.history['loss']\n",
        "val_loss = history.history['val_loss']\n",
        "epochs = range(1, len(loss) + 1)\n",
        "plt.plot(epochs, loss, 'y', label='Training loss')\n",
        "plt.plot(epochs, val_loss, 'r', label='Validation loss')\n",
        "plt.title('Training and validation loss')\n",
        "plt.xlabel('Epochs')\n",
        "plt.ylabel('Loss')\n",
        "plt.legend()\n",
        "plt.show()\n",
        "\n",
        "\n",
        "acc = history.history['accuracy']  #Use accuracy if acc doesn't work\n",
        "val_acc = history.history['val_accuracy']  #Use val_accuracy if acc doesn't work\n",
        "plt.plot(epochs, acc, 'y', label='Training acc')\n",
        "plt.plot(epochs, val_acc, 'r', label='Validation acc')\n",
        "plt.title('Training and validation accuracy')\n",
        "plt.xlabel('Epochs')\n",
        "plt.ylabel('Accuracy')\n",
        "plt.legend()\n",
        "plt.show()"
      ],
      "execution_count": null,
      "outputs": [
        {
          "output_type": "display_data",
          "data": {
            "image/png": "[encoded data removed]",
            "text/plain": [
              "<Figure size 432x288 with 1 Axes>"
            ]
          },
          "metadata": {
            "tags": [],
            "needs_background": "light"
          }
        },
        {
          "output_type": "display_data",
          "data": {
            "image/png": "[encoded data removed]",
            "text/plain": [
              "<Figure size 432x288 with 1 Axes>"
            ]
          },
          "metadata": {
            "tags": [],
            "needs_background": "light"
          }
        }
      ]
    },
    {
      "cell_type": "code",
      "metadata": {
        "colab": {
          "base_uri": "https://localhost:8080/",
          "height": 283
        },
        "id": "lRYHH_A3eeQB",
        "outputId": "582f5e90-df0e-4024-be18-cacdb469ce66"
      },
      "source": [
        "# Predicting the Test set results\n",
        "y_pred = model.predict(X_test)\n",
        "y_pred = (y_pred > 0.5)\n",
        "\n",
        "# Making the Confusion Matrix\n",
        "from sklearn.metrics import confusion_matrix\n",
        "cm = confusion_matrix(y_test, y_pred)\n",
        "\n",
        "sns.heatmap(cm, annot=True)"
      ],
      "execution_count": null,
      "outputs": [
        {
          "output_type": "execute_result",
          "data": {
            "text/plain": [
              "<matplotlib.axes._subplots.AxesSubplot at 0x7fb2e0fdc5f8>"
            ]
          },
          "metadata": {
            "tags": []
          },
          "execution_count": 23
        },
        {
          "output_type": "display_data",
          "data": {
            "image/png": "[encoded data removed]",
            "text/plain": [
              "<Figure size 432x288 with 2 Axes>"
            ]
          },
          "metadata": {
            "tags": [],
            "needs_background": "light"
          }
        }
      ]
    }
  ]
}